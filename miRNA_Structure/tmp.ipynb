{
 "cells": [
  {
   "cell_type": "code",
   "execution_count": 36,
   "metadata": {},
   "outputs": [],
   "source": [
    "import re\n",
    "from tqdm import tqdm"
   ]
  },
  {
   "cell_type": "code",
   "execution_count": 40,
   "metadata": {},
   "outputs": [],
   "source": [
    "f = open('fda.sdf')\n",
    "text = f.read()"
   ]
  },
  {
   "cell_type": "code",
   "execution_count": 41,
   "metadata": {},
   "outputs": [],
   "source": [
    "# pattern = re.compile('2D.*?zinc_id.*?(\\d+)')\n",
    "data_2d = re.findall('2D.*?zinc_id.*?(\\d+)', text, re.S)\n"
   ]
  },
  {
   "cell_type": "code",
   "execution_count": 42,
   "metadata": {},
   "outputs": [],
   "source": [
    "file_path = 'data_test.txt'"
   ]
  },
  {
   "cell_type": "code",
   "execution_count": null,
   "metadata": {},
   "outputs": [],
   "source": []
  },
  {
   "cell_type": "code",
   "execution_count": 43,
   "metadata": {},
   "outputs": [
    {
     "name": "stderr",
     "output_type": "stream",
     "text": [
      "100%|██████████| 1494/1494 [00:00<00:00, 379798.18it/s]\n"
     ]
    }
   ],
   "source": [
    "with open(file_path, 'r') as f:\n",
    "    property_types = f.readline().strip().split()\n",
    "    data_original = f.read().strip().split('\\n\\n')\n",
    "    data_out = list()\n",
    "    for data_tmp in tqdm(data_original):\n",
    "        data = data_tmp.strip().split('\\n')\n",
    "        id = data[0][7:-4]\n",
    "        if id not in data_2d:\n",
    "            data_out.append(data_tmp)\n",
    "            # break\n",
    "    str_out = '\\n\\n'.join(data_out)\n",
    "    \n",
    "\n"
   ]
  },
  {
   "cell_type": "code",
   "execution_count": 44,
   "metadata": {},
   "outputs": [],
   "source": [
    "f_out = open('test_new.txt', 'w')\n",
    "f_out.write(property_types[0] + '\\n\\n')\n",
    "f_out.write(str_out)\n",
    "f_out.close()"
   ]
  },
  {
   "cell_type": "code",
   "execution_count": 39,
   "metadata": {},
   "outputs": [],
   "source": [
    "f_out.close()"
   ]
  }
 ],
 "metadata": {
  "interpreter": {
   "hash": "a75462293d05fc3e00128f4985dd13fcf50f4f5144b1474848efbcac1f09cd24"
  },
  "kernelspec": {
   "display_name": "Python 3.8.12 ('smtr')",
   "language": "python",
   "name": "python3"
  },
  "language_info": {
   "codemirror_mode": {
    "name": "ipython",
    "version": 3
   },
   "file_extension": ".py",
   "mimetype": "text/x-python",
   "name": "python",
   "nbconvert_exporter": "python",
   "pygments_lexer": "ipython3",
   "version": "3.8.12"
  },
  "orig_nbformat": 4
 },
 "nbformat": 4,
 "nbformat_minor": 2
}
