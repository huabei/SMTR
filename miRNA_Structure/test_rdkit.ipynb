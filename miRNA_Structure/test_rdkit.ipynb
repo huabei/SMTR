{
 "cells": [
  {
   "cell_type": "code",
   "execution_count": 1,
   "metadata": {},
   "outputs": [],
   "source": [
    "from rdkit import Chem"
   ]
  },
  {
   "cell_type": "code",
   "execution_count": 2,
   "metadata": {},
   "outputs": [],
   "source": [
    "inf = open('test_data/fda.sdf','rb')\n",
    "mols = Chem.ForwardSDMolSupplier(inf)"
   ]
  },
  {
   "cell_type": "code",
   "execution_count": 4,
   "metadata": {},
   "outputs": [],
   "source": [
    "mol = next(mols)"
   ]
  },
  {
   "cell_type": "code",
   "execution_count": 21,
   "metadata": {},
   "outputs": [],
   "source": [
    "conformer = mol.GetConformer()\n",
    "atoms = mol.GetAtoms()\n",
    "atoms"
   ]
  },
  {
   "cell_type": "code",
   "execution_count": 25,
   "metadata": {},
   "outputs": [
    {
     "data": {
      "text/plain": [
       "('C', (1.8317, -0.6994, 0.3542))"
      ]
     },
     "execution_count": 25,
     "metadata": {},
     "output_type": "execute_result"
    }
   ],
   "source": [
    "atom = next(atoms)\n",
    "# conformer.GetPositions()\n",
    "a = conformer.GetAtomPosition(1)\n",
    "\n",
    "atom.GetSymbol(), tuple(a)\n",
    "# atoms[0].GetAtomPosition(1)"
   ]
  },
  {
   "cell_type": "code",
   "execution_count": 39,
   "metadata": {},
   "outputs": [],
   "source": [
    "inf = open('test_data/fda.sdf','rb')\n",
    "data_set = dict()\n",
    "with Chem.ForwardSDMolSupplier(inf) as fsuppl:\n",
    "    mol_count = 0\n",
    "    for mol in fsuppl:\n",
    "        mol_count += 1\n",
    "        if mol is None:\n",
    "            print(f'wrong mol: {mol_count}')\n",
    "            prop_dict = None\n",
    "            # continue\n",
    "        else:\n",
    "            prop_dict = mol.GetPropsAsDict()\n",
    "            conformer = mol.GetConformer().GetPositions()\n",
    "            atoms = [atom.GetSymbol() for atom in mol.GetAtoms()]\n",
    "            pos = [list(atoms[i][0]) + conformer.tolist()[i] for i in range(len(atoms))]\n",
    "            prop_dict['pos'] = pos\n",
    "        data_set[str(mol_count)] = prop_dict\n",
    "        # break\n"
   ]
  },
  {
   "cell_type": "code",
   "execution_count": 31,
   "metadata": {},
   "outputs": [
    {
     "data": {
      "text/plain": [
       "{'zinc_id': 'ZINC000000008492', 'smiles': 'Oc1cccc2cccnc12'}"
      ]
     },
     "execution_count": 31,
     "metadata": {},
     "output_type": "execute_result"
    }
   ],
   "source": [
    "mol.GetPropsAsDict()"
   ]
  },
  {
   "cell_type": "code",
   "execution_count": null,
   "metadata": {},
   "outputs": [],
   "source": [
    "mk_prepare_wrong = [44328, 45956, 46739, 70892, 71111, 71544, 71654, 77139, 80000, 80813]"
   ]
  },
  {
   "cell_type": "code",
   "execution_count": 40,
   "metadata": {},
   "outputs": [
    {
     "data": {
      "text/plain": [
       "{'zinc_id': 'ZINC000003807804',\n",
       " 'smiles': 'Clc1ccccc1C(c1ccccc1)(c1ccccc1)n1ccnc1',\n",
       " 'pos': [['C', 0.276, 1.279, 2.5515],\n",
       "  ['C', -0.9187, 0.0515, 2.1372],\n",
       "  ['C', -1.8734, -0.3712, 3.0531],\n",
       "  ['C', -3.0729, -0.8883, 2.5795],\n",
       "  ['C', -3.3995, -0.8624, 1.2295],\n",
       "  ['C', -2.3513, -0.5854, 0.3616],\n",
       "  ['C', -1.0578, -0.4351, 0.8524],\n",
       "  ['C', -0.0141, -0.1388, -0.1523],\n",
       "  ['C', -0.0787, 1.2629, -0.6185],\n",
       "  ['C', 1.0032, 2.044, -0.9165],\n",
       "  ['C', 0.9142, 3.4298, -0.9553],\n",
       "  ['C', -0.3592, 3.9642, -1.1043],\n",
       "  ['C', -1.4574, 3.1193, -1.1505],\n",
       "  ['C', -1.3231, 1.7555, -0.9623],\n",
       "  ['C', 1.3571, -0.471, 0.3375],\n",
       "  ['C', 1.5883, -1.4955, 1.2476],\n",
       "  ['C', 2.8824, -1.5395, 1.7531],\n",
       "  ['C', 3.906, -0.7839, 1.195],\n",
       "  ['C', 3.6671, -0.2602, -0.0691],\n",
       "  ['C', 2.3786, -0.2785, -0.5857],\n",
       "  ['N', -0.2579, -1.0311, -1.2825],\n",
       "  ['C', -0.8585, -2.2389, -1.2172],\n",
       "  ['C', -1.0205, -2.6549, -2.5109],\n",
       "  ['N', -0.1095, -1.9932, -3.2386],\n",
       "  ['C', 0.1796, -0.8781, -2.5342]]}"
      ]
     },
     "execution_count": 40,
     "metadata": {},
     "output_type": "execute_result"
    }
   ],
   "source": [
    "data_set['2']"
   ]
  }
 ],
 "metadata": {
  "interpreter": {
   "hash": "49cb93f377a7abe7414b7b0f21fb3017538004a126cf690fb524202736b7fb92"
  },
  "kernelspec": {
   "display_name": "Python 3.9.12 ('base')",
   "language": "python",
   "name": "python3"
  },
  "language_info": {
   "codemirror_mode": {
    "name": "ipython",
    "version": 3
   },
   "file_extension": ".py",
   "mimetype": "text/x-python",
   "name": "python",
   "nbconvert_exporter": "python",
   "pygments_lexer": "ipython3",
   "version": "3.9.12"
  },
  "orig_nbformat": 4
 },
 "nbformat": 4,
 "nbformat_minor": 2
}
